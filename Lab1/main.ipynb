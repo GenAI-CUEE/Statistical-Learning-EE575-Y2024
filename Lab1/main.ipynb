{
 "cells": [
  {
   "cell_type": "markdown",
   "metadata": {},
   "source": [
    "Before you turn this problem in, make sure everything runs as expected. First, **restart the kernel** (in the menubar, select Kernel$\\rightarrow$Restart) and then **run all cells** (in the menubar, select Cell$\\rightarrow$Run All).\n",
    "\n",
    "Make sure you fill in any place that says `YOUR CODE HERE` or \"YOUR ANSWER HERE\", as well as your name and collaborators below:"
   ]
  },
  {
   "cell_type": "code",
   "execution_count": null,
   "metadata": {},
   "outputs": [],
   "source": [
    "Group = \"\" #G1\n",
    "NAME = \"\"\n",
    "COLLABORATORS = \"\""
   ]
  },
  {
   "cell_type": "markdown",
   "metadata": {},
   "source": [
    "---"
   ]
  },
  {
   "cell_type": "markdown",
   "metadata": {
    "deletable": false,
    "editable": false,
    "nbgrader": {
     "cell_type": "markdown",
     "checksum": "bef4f935177da0107a8d7d33cdd0f1bf",
     "grade": false,
     "grade_id": "cell-4f3c0c4667a532b9",
     "locked": true,
     "schema_version": 3,
     "solution": false,
     "task": false
    }
   },
   "source": [
    "### Lab1: cross-validation"
   ]
  },
  {
   "cell_type": "markdown",
   "metadata": {
    "deletable": false,
    "editable": false,
    "nbgrader": {
     "cell_type": "markdown",
     "checksum": "f234052a7ea9b02acc11b0264da48d38",
     "grade": false,
     "grade_id": "cell-fb492ac513cc7424",
     "locked": true,
     "schema_version": 3,
     "solution": false,
     "task": false
    }
   },
   "source": [
    "Your task: implement a cross-validation framework to select the best set of features."
   ]
  },
  {
   "cell_type": "markdown",
   "metadata": {
    "deletable": false,
    "editable": false,
    "nbgrader": {
     "cell_type": "markdown",
     "checksum": "35fbed6ce237f921d037c5fe845f560c",
     "grade": false,
     "grade_id": "cell-ea5850ad584d3573",
     "locked": true,
     "schema_version": 3,
     "solution": false,
     "task": false
    }
   },
   "source": [
    "This notebook provides: \n",
    "\n",
    "- Tools and packages\n",
    "- Download data from [kaggle](https://www.kaggle.com/competitions/house-prices-advanced-regression-techniques/data) \n",
    "- Data processing \n",
    "- Your implementation of cross-validation\n",
    "- Show the averaged model selection scores: AIC, AICs, BIC, Adjusted R2 (using Training sets)\n",
    "- Show the averaged MSE scores from training and validation.\n",
    "\n",
    "You can run this notebook on collab:  <a target=\"_blank\" href=\"https://colab.research.google.com/github/GabbySuwichaya/Statistical-Learning-EE575/blob/master/Lab1/main.ipynb\"> <img src=\"https://colab.research.google.com/assets/colab-badge.svg\" alt=\"Open In Colab\"/>\n",
    "</a>"
   ]
  },
  {
   "cell_type": "markdown",
   "metadata": {
    "deletable": false,
    "editable": false,
    "nbgrader": {
     "cell_type": "markdown",
     "checksum": "11578ad0d0a62b79566d46b189154303",
     "grade": false,
     "grade_id": "ToolsPackages",
     "locked": true,
     "schema_version": 3,
     "solution": false,
     "task": false
    }
   },
   "source": [
    "### Tools and Packages"
   ]
  },
  {
   "cell_type": "code",
   "execution_count": null,
   "metadata": {},
   "outputs": [],
   "source": [
    "import numpy as np\n",
    "import pandas as pd \n",
    "import matplotlib.pyplot as plt  \n",
    "\n",
    "from sklearn.linear_model import LinearRegression \n",
    "from sklearn.preprocessing import LabelEncoder\n",
    "from sklearn.preprocessing import StandardScaler  \n",
    "\n",
    "def train_test_split(df, train_percent=.8, seed=None):\n",
    "    np.random.seed(seed) \n",
    "    perm         = np.random.permutation(df.index)\n",
    "    m            = len(df.index) \n",
    "    train_end    = np.floor(int(train_percent * m)) \n",
    "    \n",
    "    train        = df.iloc[perm[:train_end]]\n",
    "    test         = df.iloc[perm[train_end:]] \n",
    "\n",
    "    train       = train.drop(columns=[\"index\"]) \n",
    "    test        = test.drop(columns=[\"index\"])\n",
    "\n",
    "    train       = train.reset_index(drop=True) \n",
    "    test        = test.reset_index(drop=True)\n",
    "    \n",
    "    return train, test\n",
    "\n",
    "\n",
    "def likelihood_score(y_training, y_expectation=None): \n",
    "    if y_expectation is None:\n",
    "        y_expectation = np.mean(y_training)\n",
    "    sigma_hat =  np.mean((y_training - y_expectation)**2)  \n",
    "    m = len(y_training) \n",
    "    score     = - 0.5*m*np.log(2*np.pi*sigma_hat) - 0.5*m\n",
    "    return score\n",
    "\n",
    "def model_selection_scores(dataset):\n",
    "\n",
    "    x_ = dataset[\"X\"]\n",
    "    y_ = dataset[\"y\"]\n",
    "    y_predict = dataset[\"y_predict\"] \n",
    "\n",
    "    feat_dim = x_.shape[1]\n",
    "    num_samples  = len(y_) \n",
    "    ll_score = likelihood_score(y_, y_expectation=y_predict) \n",
    "    \n",
    "\n",
    "    AIC_score  = -2*ll_score + 2*feat_dim\n",
    "    AICs_score = -2*ll_score + 2*feat_dim + 2*feat_dim*(feat_dim + 1)/(num_samples - feat_dim - 1)\n",
    "    BIC_score  = -2*ll_score +  feat_dim*np.log(num_samples)\n",
    "    \n",
    "    RSS_score  = np.sum((y_ - y_predict)**2)\n",
    "    TSS_score  = np.sum((y_ - np.mean(y_))**2) \n",
    "    AdjustR2_score = 1 - (RSS_score/(num_samples-feat_dim-1))/(TSS_score/(num_samples-1))\n",
    "    \n",
    "    RMSE_score = np.sqrt(np.mean((y_ - y_predict)**2))\n",
    "\n",
    "    return { \"AIC\": AIC_score , \"AICs\": AICs_score, \"BIC\": BIC_score, \"AdjustedR2\": AdjustR2_score , \"RMSE\": RMSE_score }"
   ]
  },
  {
   "cell_type": "markdown",
   "metadata": {
    "deletable": false,
    "editable": false,
    "nbgrader": {
     "cell_type": "markdown",
     "checksum": "7eb4bdb5fc770e7e932e60defc3503fe",
     "grade": false,
     "grade_id": "DataLoading",
     "locked": true,
     "schema_version": 3,
     "solution": false,
     "task": false
    }
   },
   "source": [
    "### Data loading and preprocessing"
   ]
  },
  {
   "cell_type": "code",
   "execution_count": null,
   "metadata": {},
   "outputs": [],
   "source": [
    "foldername = \"house-prices-advanced-regression-techniques\"\n",
    "df = pd.read_csv('%s/train.csv' % foldername)   \n",
    "df.keys()"
   ]
  },
  {
   "cell_type": "code",
   "execution_count": null,
   "metadata": {
    "deletable": false,
    "editable": false,
    "nbgrader": {
     "cell_type": "code",
     "checksum": "e4ab082014afb2e0446101d33eb9045a",
     "grade": false,
     "grade_id": "FeatureList",
     "locked": true,
     "schema_version": 3,
     "solution": false,
     "task": false
    }
   },
   "outputs": [],
   "source": [
    "all_column = [  \"MoSold\",         \"YrSold\",        \"MSSubClass\",    \"LandSlope\",   \n",
    "                \"ScreenPorch\",   \"MiscVal\",       \"Condition1\",   \"OverallCond\",      \n",
    "                \"KitchenAbvGr\",  \"PoolArea\",     \"Utilities\" ,   \"SalePrice\"] "
   ]
  },
  {
   "cell_type": "markdown",
   "metadata": {},
   "source": [
    "Encoding string labels to numerical labels and drop nan values"
   ]
  },
  {
   "cell_type": "code",
   "execution_count": null,
   "metadata": {},
   "outputs": [],
   "source": [
    "df = df[all_column]\n",
    "df = df.apply(LabelEncoder().fit_transform)\n",
    "\n",
    "df = df.dropna() \n",
    "df = df.reset_index()  \n",
    "\n",
    "train, test = train_test_split(df, train_percent=.8, seed=None)"
   ]
  },
  {
   "cell_type": "markdown",
   "metadata": {
    "deletable": false,
    "editable": false,
    "nbgrader": {
     "cell_type": "markdown",
     "checksum": "ea4ed30e543d4d07e911ade82cb4e38b",
     "grade": false,
     "grade_id": "cell-7744268ed097ae25",
     "locked": true,
     "schema_version": 3,
     "solution": false,
     "task": false
    }
   },
   "source": [
    "### Lab1. Cross-validation to find the most suitable set of features"
   ]
  },
  {
   "cell_type": "markdown",
   "metadata": {
    "deletable": false,
    "editable": false,
    "nbgrader": {
     "cell_type": "markdown",
     "checksum": "ed72d5fdff462c43b93b2828983ebb21",
     "grade": false,
     "grade_id": "cell-92a0f3d0b64b41d8",
     "locked": true,
     "schema_version": 3,
     "solution": false,
     "task": false
    }
   },
   "source": [
    "Use cross-validation to find the most suitable set of features. "
   ]
  },
  {
   "cell_type": "code",
   "execution_count": null,
   "metadata": {},
   "outputs": [],
   "source": [
    "num_k_folds = 5"
   ]
  },
  {
   "cell_type": "code",
   "execution_count": null,
   "metadata": {
    "deletable": false,
    "editable": false,
    "nbgrader": {
     "cell_type": "code",
     "checksum": "c9a3529e899b7de51a4c7daa62f0d581",
     "grade": false,
     "grade_id": "FeatureSets",
     "locked": true,
     "schema_version": 3,
     "solution": false,
     "task": false
    }
   },
   "outputs": [],
   "source": [
    "target_column = [\"SalePrice\"]\n",
    "\n",
    "feat_column_1   = [\"MoSold\",       \"YrSold\"  ]\n",
    "\n",
    "feat_column_2   = [\"MoSold\",        \"YrSold\",       \"MSSubClass\"     ]\n",
    "\n",
    "feat_column_3   = [\"MoSold\",        \"YrSold\",       \"MSSubClass\",     \"LandSlope\"  ]\n",
    "\n",
    "feat_column_4   = [\"MoSold\",        \"YrSold\",       \"MSSubClass\",     \"LandSlope\",  \n",
    "                   \"ScreenPorch\"  ]\n",
    "\n",
    "feat_column_5   = [\"MoSold\",        \"YrSold\",       \"MSSubClass\",     \"LandSlope\",   \n",
    "                   \"ScreenPorch\",   \"MiscVal\"  ]\n",
    "\n",
    "feat_column_6   = [\"MoSold\",        \"YrSold\",       \"MSSubClass\",     \"LandSlope\",   \n",
    "                   \"ScreenPorch\",   \"MiscVal\",      \"Condition1\"  ]\n",
    "\n",
    "feat_column_7  = [\"MoSold\",        \"YrSold\",       \"MSSubClass\",     \"LandSlope\",   \n",
    "                   \"ScreenPorch\",  \"MiscVal\",       \"Condition1\",   \"OverallCond\" ]\n",
    "\n",
    "feat_column_8  = [ \"MoSold\",        \"YrSold\",       \"MSSubClass\",     \"LandSlope\",   \n",
    "                   \"ScreenPorch\",  \"MiscVal\",         \"Condition1\",   \"OverallCond\",      \n",
    "                   \"KitchenAbvGr\"  ]\n",
    "\n",
    "feat_column_9  = [ \"MoSold\",        \"YrSold\",       \"MSSubClass\",     \"LandSlope\",   \n",
    "                   \"ScreenPorch\",  \"MiscVal\",         \"Condition1\",   \"OverallCond\",      \n",
    "                   \"KitchenAbvGr\",  \"PoolArea\" ]\n",
    "\n",
    "feat_column_10  = [\"MoSold\",        \"YrSold\",       \"MSSubClass\",     \"LandSlope\",   \n",
    "                   \"ScreenPorch\",  \"MiscVal\",       \"Condition1\",   \"OverallCond\",      \n",
    "                   \"KitchenAbvGr\",  \"PoolArea\",     \"Utilities\"  ]\n",
    "\n",
    "\n",
    "feature_set_dict = {1:feat_column_1, 2:feat_column_2, 3:feat_column_3, 4:feat_column_4, 5: feat_column_5, \n",
    "                    6:feat_column_6, 7:feat_column_7, 8:feat_column_8, 9:feat_column_9, 10: feat_column_10 }"
   ]
  },
  {
   "cell_type": "code",
   "execution_count": null,
   "metadata": {
    "deletable": false,
    "nbgrader": {
     "cell_type": "code",
     "checksum": "a59556e8306db9b0f1b36d73b5ef7300",
     "grade": false,
     "grade_id": "SingleFoldProblem",
     "locked": false,
     "schema_version": 3,
     "solution": true,
     "task": false
    }
   },
   "outputs": [],
   "source": [
    "def single_fold_operation(train_X, train_y, train_subet_index, valid_subset_index): \n",
    "    '''\n",
    "    This function will perform the training and inference on the k-fold data. \n",
    "    Then, it will return the scores (AIC, AICs, BIC, AdjustedR2, RMSE_train, RMSE_valid)\n",
    "\n",
    "    For example, after you train and run inference, you may get output such as\n",
    "    y_train_pred and y_valid_pred... Then, you may use them to calculate such scores...\n",
    "    \n",
    "    train_subset = {\"X\":X_train_subset, \"y\":y_train_subset, \"y_predict\":y_train_pred}\n",
    "    valid_subset = {\"X\":X_valid_subset, \"y\":y_valid_subset, \"y_predict\":y_valid_pred} \n",
    "\n",
    "    training_score = model_selection_scores(train_subset)\n",
    "    valid_score   = model_selection_scores(valid_subset)\n",
    "    \n",
    "    scores = {  \"AIC\": training_score[\"AIC\"], \n",
    "                \"AICs\": training_score[\"AICs\"], \n",
    "                \"BIC\": training_score[\"BIC\"], \n",
    "                \"AdjustedR2\": training_score[\"AdjustedR2\"],\n",
    "                \"RMSE_train\": training_score[\"RMSE\"], \n",
    "                \"RMSE_valid\":valid_score[\"RMSE\"] }\n",
    "\n",
    "    return scores\n",
    "    '''\n",
    "\n",
    "    # YOUR CODE HERE\n",
    "    raise NotImplementedError()\n",
    "\n",
    "    return scores "
   ]
  },
  {
   "cell_type": "code",
   "execution_count": null,
   "metadata": {
    "deletable": false,
    "editable": false,
    "nbgrader": {
     "cell_type": "code",
     "checksum": "bc5d3f048733cdf63c39771543c6051e",
     "grade": true,
     "grade_id": "RunTest",
     "locked": true,
     "points": 10,
     "schema_version": 3,
     "solution": false,
     "task": false
    }
   },
   "outputs": [],
   "source": [
    "from sklearn.preprocessing import StandardScaler \n",
    "from sklearn.model_selection import KFold \n",
    "  \n",
    "AIC_feature_set = {}\n",
    "AICs_feature_set = {}\n",
    "BIC_feature_set = {}\n",
    "AdjustedR2_feature_set = {}\n",
    "\n",
    "RMSE_train_feature_set = {}\n",
    "RMSE_valid_feature_set = {}\n",
    "\n",
    "\n",
    "for key, feat_set in feature_set_dict.items(): \n",
    "\n",
    "    X_scaler = StandardScaler() \n",
    "    train_X = X_scaler.fit_transform(train[feat_set].values[:] )  \n",
    "    train_y = train[target_column].values[:]\n",
    "\n",
    "    kf = KFold(n_splits=num_k_folds) \n",
    "\n",
    "    AIC_list  = []\n",
    "    AICs_list = []\n",
    "    BIC_list  = []\n",
    "    AdjustedR2_list = [] \n",
    "    RMSE_train_list  = []\n",
    "    RMSE_valid_list  = []\n",
    "\n",
    "    for i, (train_subet_index, valid_subset_index) in enumerate(kf.split(train_X)):\n",
    "\n",
    "        scores = single_fold_operation(train_X, train_y, train_subet_index, valid_subset_index)\n",
    " \n",
    "\n",
    "        AIC_list.append(scores[\"AIC\"])\n",
    "        AICs_list.append(scores[\"AICs\"])\n",
    "        BIC_list.append(scores[\"BIC\"])\n",
    "        AdjustedR2_list.append(scores[\"AdjustedR2\"])\n",
    " \n",
    "        RMSE_train_list.append(scores[\"RMSE_train\"])\n",
    "        RMSE_valid_list.append(scores[\"RMSE_valid\"])\n",
    "     \n",
    "\n",
    "    AIC_feature_set[key]  = np.mean(AIC_list)\n",
    "    AICs_feature_set[key] = np.mean(AICs_list) \n",
    "    BIC_feature_set[key]  = np.mean(BIC_list) \n",
    "    AdjustedR2_feature_set[key]  = np.mean(AdjustedR2_list) \n",
    "\n",
    "    RMSE_train_feature_set[key] = np.mean(RMSE_train_list) \n",
    "    RMSE_valid_feature_set[key] = np.mean(RMSE_valid_list) "
   ]
  },
  {
   "cell_type": "markdown",
   "metadata": {},
   "source": [
    "Converting from dict to list for plotting"
   ]
  },
  {
   "cell_type": "code",
   "execution_count": null,
   "metadata": {},
   "outputs": [],
   "source": [
    "AIC_feature_set_lists = sorted(AIC_feature_set.items())  \n",
    "feature_set, AIC_scores_list = zip(*AIC_feature_set_lists) \n",
    "\n",
    "AICs_feature_set_lists = sorted(AICs_feature_set.items())  \n",
    "feature_set, AICs_scores_list = zip(*AICs_feature_set_lists) \n",
    "\n",
    "BIC_feature_set_lists = sorted(BIC_feature_set.items())  \n",
    "feature_set, BIC_scores_list = zip(*BIC_feature_set_lists) \n",
    "\n",
    "AdjustedR2_feature_set_lists = sorted(AdjustedR2_feature_set.items())  \n",
    "feature_set, AdjustedR2_scores_list = zip(*AdjustedR2_feature_set_lists) \n",
    "\n",
    "RMSE_train_feature_set_lists = sorted(RMSE_train_feature_set.items())  \n",
    "feature_set, RMSE_train_lists = zip(*RMSE_train_feature_set_lists) \n",
    "\n",
    "RMSE_valid_feature_set_lists = sorted(RMSE_valid_feature_set.items())  \n",
    "feature_set, RMSE_valid_lists = zip(*RMSE_valid_feature_set_lists) "
   ]
  },
  {
   "cell_type": "code",
   "execution_count": null,
   "metadata": {},
   "outputs": [],
   "source": [
    "plt.plot(feature_set, RMSE_train_lists, label=\"Training\", color=\"blue\", linestyle=\"-\",  marker=\"o\")\n",
    "plt.plot(feature_set, RMSE_valid_lists, label=\"Valid\", color=\"red\", linestyle = \"--\", marker=\"o\")  \n",
    "plt.xlabel(\"Feature settings\")\n",
    "plt.ylabel(\"RMSE\")\n",
    "plt.legend()\n",
    "plt.grid()\n",
    "plt.show()"
   ]
  },
  {
   "cell_type": "markdown",
   "metadata": {},
   "source": [
    "Plot AIC, AICs, BIC, Adjusted R2"
   ]
  },
  {
   "cell_type": "code",
   "execution_count": null,
   "metadata": {},
   "outputs": [],
   "source": [
    "plt.plot(feature_set, AIC_scores_list, label=\"AIC\", color=\"red\", linestyle=\"-\",  marker=\"o\")\n",
    "plt.plot(feature_set, AICs_scores_list, label=\"AICs\", color=\"orange\", linestyle = \"--\", marker=\"o\")  \n",
    "plt.plot(feature_set, BIC_scores_list, label=\"BIC\", color=\"blue\", linestyle = \"-.\", marker=\"o\")  \n",
    "plt.ylabel(\"Scores\") \n",
    "plt.legend(loc=(0.8,0.4))\n",
    "plt.xlabel(\"Feature settings\")\n",
    "plt.grid()\n",
    "\n",
    "plt.gca().twinx().plot(feature_set, AdjustedR2_scores_list, label=\"AdjustR2\", color=\"cyan\", linestyle = \"-\", marker=\"o\")  \n",
    "plt.ylabel(\"Accuracy\") \n",
    "plt.legend(loc=(0.75,0.30))  \n",
    "plt.gca().xaxis.grid(True)\n",
    "plt.show()"
   ]
  },
  {
   "cell_type": "code",
   "execution_count": null,
   "metadata": {},
   "outputs": [],
   "source": []
  }
 ],
 "metadata": {
  "kernelspec": {
   "display_name": "Python 3 (ipykernel)",
   "language": "python",
   "name": "python3"
  },
  "language_info": {
   "codemirror_mode": {
    "name": "ipython",
    "version": 3
   },
   "file_extension": ".py",
   "mimetype": "text/x-python",
   "name": "python",
   "nbconvert_exporter": "python",
   "pygments_lexer": "ipython3",
   "version": "3.13.1"
  }
 },
 "nbformat": 4,
 "nbformat_minor": 4
}
